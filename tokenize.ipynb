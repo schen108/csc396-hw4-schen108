{
 "cells": [
  {
   "cell_type": "code",
   "execution_count": 1,
   "metadata": {},
   "outputs": [
    {
     "name": "stdout",
     "output_type": "stream",
     "text": [
      "Requirement already satisfied: transformers in /opt/conda/lib/python3.11/site-packages (4.46.3)\n",
      "Requirement already satisfied: filelock in /opt/conda/lib/python3.11/site-packages (from transformers) (3.16.1)\n",
      "Requirement already satisfied: huggingface-hub<1.0,>=0.23.2 in /opt/conda/lib/python3.11/site-packages (from transformers) (0.26.3)\n",
      "Requirement already satisfied: numpy>=1.17 in /opt/conda/lib/python3.11/site-packages (from transformers) (1.26.4)\n",
      "Requirement already satisfied: packaging>=20.0 in /opt/conda/lib/python3.11/site-packages (from transformers) (24.0)\n",
      "Requirement already satisfied: pyyaml>=5.1 in /opt/conda/lib/python3.11/site-packages (from transformers) (6.0.1)\n",
      "Requirement already satisfied: regex!=2019.12.17 in /opt/conda/lib/python3.11/site-packages (from transformers) (2024.11.6)\n",
      "Requirement already satisfied: requests in /opt/conda/lib/python3.11/site-packages (from transformers) (2.31.0)\n",
      "Requirement already satisfied: tokenizers<0.21,>=0.20 in /opt/conda/lib/python3.11/site-packages (from transformers) (0.20.3)\n",
      "Requirement already satisfied: safetensors>=0.4.1 in /opt/conda/lib/python3.11/site-packages (from transformers) (0.4.5)\n",
      "Requirement already satisfied: tqdm>=4.27 in /opt/conda/lib/python3.11/site-packages (from transformers) (4.66.2)\n",
      "Requirement already satisfied: fsspec>=2023.5.0 in /opt/conda/lib/python3.11/site-packages (from huggingface-hub<1.0,>=0.23.2->transformers) (2024.3.1)\n",
      "Requirement already satisfied: typing-extensions>=3.7.4.3 in /opt/conda/lib/python3.11/site-packages (from huggingface-hub<1.0,>=0.23.2->transformers) (4.12.2)\n",
      "Requirement already satisfied: charset-normalizer<4,>=2 in /opt/conda/lib/python3.11/site-packages (from requests->transformers) (3.3.2)\n",
      "Requirement already satisfied: idna<4,>=2.5 in /opt/conda/lib/python3.11/site-packages (from requests->transformers) (3.6)\n",
      "Requirement already satisfied: urllib3<3,>=1.21.1 in /opt/conda/lib/python3.11/site-packages (from requests->transformers) (2.2.1)\n",
      "Requirement already satisfied: certifi>=2017.4.17 in /opt/conda/lib/python3.11/site-packages (from requests->transformers) (2024.8.30)\n"
     ]
    }
   ],
   "source": [
    "!pip install transformers"
   ]
  },
  {
   "cell_type": "code",
   "execution_count": 2,
   "metadata": {},
   "outputs": [],
   "source": [
    "from tqdm.notebook import tqdm"
   ]
  },
  {
   "cell_type": "code",
   "execution_count": 3,
   "metadata": {},
   "outputs": [
    {
     "name": "stderr",
     "output_type": "stream",
     "text": [
      "None of PyTorch, TensorFlow >= 2.0, or Flax have been found. Models won't be available and only tokenizers, configuration and file/data utilities can be used.\n"
     ]
    }
   ],
   "source": [
    "# Load model directly\n",
    "from transformers import AutoTokenizer, AutoModelForMaskedLM\n",
    "\n",
    "tokenizer = AutoTokenizer.from_pretrained(\"FacebookAI/roberta-base\")"
   ]
  },
  {
   "cell_type": "code",
   "execution_count": 4,
   "metadata": {
    "scrolled": true
   },
   "outputs": [],
   "source": [
    "# Read the giant textfile in\n",
    "filepath = \"../home/schen9/dataset.txt\"\n",
    "\n",
    "def read_file(filepath,num_lines=850_000):\n",
    "    # text_lines = []\n",
    "    text = \"\"\n",
    "    with open(filepath) as fh:\n",
    "        for i, line in enumerate(fh):\n",
    "            if i >= num_lines:\n",
    "                break\n",
    "            # text_lines.append(line)\n",
    "            text += line\n",
    "    # return text_lines\n",
    "    return text\n",
    "\n",
    "text = read_file(filepath)"
   ]
  },
  {
   "cell_type": "code",
   "execution_count": 5,
   "metadata": {},
   "outputs": [],
   "source": [
    "tokens = tokenizer(text, truncation=True)"
   ]
  },
  {
   "cell_type": "code",
   "execution_count": 6,
   "metadata": {},
   "outputs": [
    {
     "data": {
      "text/plain": [
       "{'input_ids': [0, 133, 735, 34546, 16, 10, 36248, 470, 8454, 4149, 822, 6, 3660, 30, 4720, 11998, 8, 8996, 4810, 1587, 1127, 338, 6, 1813, 11549, 6, 8, 4858, 8804, 4, 50118, 243, 21, 703, 30, 1234, 496, 12290, 15, 502, 262, 6, 36248, 4, 50118, 48812, 50118, 1620, 1602, 11, 10, 822, 4320, 1551, 6, 12602, 710, 6, 1354, 9, 407, 12336, 18095, 219, 859, 6, 4401, 4458, 988, 4436, 6, 1060, 275, 1441, 3884, 506, 10505, 15071, 6, 2730, 6, 25760, 6, 8, 33489, 6, 16, 67, 11, 657, 19, 69, 4, 50118, 894, 2215, 14, 12602, 710, 2997, 988, 396, 143, 657, 13, 123, 4, 50118, 1779, 12602, 710, 16766, 7, 1157, 123, 7, 989, 928, 6, 37, 11703, 14, 37, 34, 10, 778, 7, 339, 69, 4, 50118, 28886, 506, 10505, 3026, 988, 14, 37, 40, 339, 69, 409, 31, 123, 114, 37, 64, 4, 50118, 14009, 6, 67, 9, 5, 2706, 71, 5, 997, 6, 16766, 7, 39705, 1755, 12602, 710, 50, 2120, 143, 6132, 2857, 19, 3884, 20994, 4, 50118, 894, 423, 28411, 106, 561, 71, 79, 34, 174, 123, 14, 79, 34, 1613, 4, 50118, 28605, 889, 50118, 50118, 28917, 26481, 50118, 4688, 20044, 5780, 9, 20, 735, 34546, 16, 2034, 23, 5, 5672, 9, 1148, 8, 5, 4222, 824, 13, 6026, 8, 10112, 1624, 4, 50118, 133, 14692, 1468, 16755, 769, 2507, 112, 12, 176, 8, 204, 12, 406, 6, 19, 5, 371, 29078, 1716, 4, 50118, 49379, 50118, 50118, 47380, 5678, 50118, 50118, 36361, 4339, 716, 15, 1364, 30, 610, 272, 1536, 17328, 50118, 36361, 4339, 3660, 30, 4720, 11998, 50118, 1646, 1244, 4149, 3541, 50118, 1646, 1244, 3541, 50118, 23719, 1342, 470, 4149, 3541, 50118, 4310, 8454, 1905, 3541, 50118, 4310, 909, 12, 463, 12, 9830, 3541, 50118, 10993, 496, 12290, 3541, 50118, 44328, 29, 470, 3541, 50118, 1121, 2166, 18947, 6, 10, 11235, 18594, 36418, 16, 41, 364, 7293, 571, 1499, 17407, 30, 6964, 1245, 35512, 396, 1367, 14275, 4682, 583, 12323, 8, 17529, 4, 50118, 21426, 18594, 4003, 9898, 189, 680, 35, 50140, 5, 27121, 1728, 6964, 8391, 8, 15383, 1792, 8391, 45856, 50118, 5, 10602, 8, 30757, 6884, 3569, 6964, 8391, 6, 14065, 2279, 281, 6, 8, 15383, 1792, 8391, 45856, 1437, 50118, 5, 18586, 877, 6964, 8391, 6, 14065, 2279, 281, 6, 8, 15383, 1792, 8391, 45856, 1437, 50118, 50118, 250, 11235, 18594, 16, 2333, 2913, 19, 6964, 8, 15383, 19424, 6, 6122, 15, 5, 191, 8, 36961, 4, 50118, 133, 1385, 11235, 18594, 2147, 45151, 10, 4126, 12, 271, 808, 2147, 6, 61, 16, 13590, 11, 3806, 350, 3841, 7, 323, 10, 6693, 6, 53, 45, 3841, 615, 7, 28, 10, 10348, 4, 50118, 21426, 3807, 293, 32, 2333, 17407, 30, 10, 4126, 12, 271, 808, 50, 19570, 2147, 4, 50118, 40884, 5593, 293, 64, 28, 2673, 11, 5, 1035, 9, 62, 7, 1437, 8, 11, 2608, 9, 159, 7, 479, 50118, 41107, 42, 538, 10175, 2249, 6, 22798, 227, 183, 8, 363, 32, 67, 182, 372, 4, 50118, 1121, 258, 5, 239, 8391, 9, 32150, 8, 2], 'attention_mask': [1, 1, 1, 1, 1, 1, 1, 1, 1, 1, 1, 1, 1, 1, 1, 1, 1, 1, 1, 1, 1, 1, 1, 1, 1, 1, 1, 1, 1, 1, 1, 1, 1, 1, 1, 1, 1, 1, 1, 1, 1, 1, 1, 1, 1, 1, 1, 1, 1, 1, 1, 1, 1, 1, 1, 1, 1, 1, 1, 1, 1, 1, 1, 1, 1, 1, 1, 1, 1, 1, 1, 1, 1, 1, 1, 1, 1, 1, 1, 1, 1, 1, 1, 1, 1, 1, 1, 1, 1, 1, 1, 1, 1, 1, 1, 1, 1, 1, 1, 1, 1, 1, 1, 1, 1, 1, 1, 1, 1, 1, 1, 1, 1, 1, 1, 1, 1, 1, 1, 1, 1, 1, 1, 1, 1, 1, 1, 1, 1, 1, 1, 1, 1, 1, 1, 1, 1, 1, 1, 1, 1, 1, 1, 1, 1, 1, 1, 1, 1, 1, 1, 1, 1, 1, 1, 1, 1, 1, 1, 1, 1, 1, 1, 1, 1, 1, 1, 1, 1, 1, 1, 1, 1, 1, 1, 1, 1, 1, 1, 1, 1, 1, 1, 1, 1, 1, 1, 1, 1, 1, 1, 1, 1, 1, 1, 1, 1, 1, 1, 1, 1, 1, 1, 1, 1, 1, 1, 1, 1, 1, 1, 1, 1, 1, 1, 1, 1, 1, 1, 1, 1, 1, 1, 1, 1, 1, 1, 1, 1, 1, 1, 1, 1, 1, 1, 1, 1, 1, 1, 1, 1, 1, 1, 1, 1, 1, 1, 1, 1, 1, 1, 1, 1, 1, 1, 1, 1, 1, 1, 1, 1, 1, 1, 1, 1, 1, 1, 1, 1, 1, 1, 1, 1, 1, 1, 1, 1, 1, 1, 1, 1, 1, 1, 1, 1, 1, 1, 1, 1, 1, 1, 1, 1, 1, 1, 1, 1, 1, 1, 1, 1, 1, 1, 1, 1, 1, 1, 1, 1, 1, 1, 1, 1, 1, 1, 1, 1, 1, 1, 1, 1, 1, 1, 1, 1, 1, 1, 1, 1, 1, 1, 1, 1, 1, 1, 1, 1, 1, 1, 1, 1, 1, 1, 1, 1, 1, 1, 1, 1, 1, 1, 1, 1, 1, 1, 1, 1, 1, 1, 1, 1, 1, 1, 1, 1, 1, 1, 1, 1, 1, 1, 1, 1, 1, 1, 1, 1, 1, 1, 1, 1, 1, 1, 1, 1, 1, 1, 1, 1, 1, 1, 1, 1, 1, 1, 1, 1, 1, 1, 1, 1, 1, 1, 1, 1, 1, 1, 1, 1, 1, 1, 1, 1, 1, 1, 1, 1, 1, 1, 1, 1, 1, 1, 1, 1, 1, 1, 1, 1, 1, 1, 1, 1, 1, 1, 1, 1, 1, 1, 1, 1, 1, 1, 1, 1, 1, 1, 1, 1, 1, 1, 1, 1, 1, 1, 1, 1, 1, 1, 1, 1, 1, 1, 1, 1, 1, 1, 1, 1, 1, 1, 1, 1, 1, 1, 1, 1, 1, 1, 1, 1, 1, 1, 1, 1, 1, 1, 1, 1, 1, 1, 1, 1, 1, 1, 1, 1, 1, 1, 1, 1, 1, 1, 1, 1, 1, 1, 1, 1, 1, 1, 1]}"
      ]
     },
     "execution_count": 6,
     "metadata": {},
     "output_type": "execute_result"
    }
   ],
   "source": [
    "tokens"
   ]
  },
  {
   "cell_type": "code",
   "execution_count": null,
   "metadata": {},
   "outputs": [],
   "source": []
  }
 ],
 "metadata": {
  "kernelspec": {
   "display_name": "Python 3 (ipykernel)",
   "language": "python",
   "name": "python3"
  },
  "language_info": {
   "codemirror_mode": {
    "name": "ipython",
    "version": 3
   },
   "file_extension": ".py",
   "mimetype": "text/x-python",
   "name": "python",
   "nbconvert_exporter": "python",
   "pygments_lexer": "ipython3",
   "version": "3.11.8"
  }
 },
 "nbformat": 4,
 "nbformat_minor": 4
}
