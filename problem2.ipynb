{
 "cells": [
  {
   "cell_type": "markdown",
   "id": "46b547d6-486f-4e5f-b69c-9500b7164fb7",
   "metadata": {},
   "source": [
    "# Problem 2"
   ]
  },
  {
   "cell_type": "code",
   "execution_count": 11,
   "id": "de4f530a-fbdd-4938-8529-26c225f4f608",
   "metadata": {},
   "outputs": [
    {
     "data": {
      "text/plain": [
       "device(type='cuda')"
      ]
     },
     "execution_count": 11,
     "metadata": {},
     "output_type": "execute_result"
    }
   ],
   "source": [
    "import pandas as pd\n",
    "import numpy as np\n",
    "import torch\n",
    "from tqdm.notebook import tqdm\n",
    "\n",
    "device = torch.device(\"cuda\" if torch.cuda.is_available() else \"cpu\")\n",
    "device"
   ]
  },
  {
   "cell_type": "code",
   "execution_count": 3,
   "id": "22f80913-f18c-4eda-bbd7-fa26d9737b0f",
   "metadata": {},
   "outputs": [],
   "source": [
    "import pickle \n",
    "\n",
    "with open('avg_embeddings_partial.pkl', 'rb') as f:\n",
    "    avg_embeddings = pickle.load(f)"
   ]
  },
  {
   "cell_type": "code",
   "execution_count": 5,
   "id": "a4bcf937-23b7-4795-9a49-c4e56f4e85fa",
   "metadata": {},
   "outputs": [
    {
     "data": {
      "text/plain": [
       "15974"
      ]
     },
     "execution_count": 5,
     "metadata": {},
     "output_type": "execute_result"
    }
   ],
   "source": [
    "len(avg_embeddings)"
   ]
  },
  {
   "cell_type": "code",
   "execution_count": 7,
   "id": "623ae355-b988-4155-9e8a-d6b48ffe8229",
   "metadata": {},
   "outputs": [],
   "source": [
    "glove_filepath = \"../home/schen9/glove.6B.300d-vocabulary.txt\"\n",
    "csv_glove_filepath = \"glove.csv\""
   ]
  },
  {
   "cell_type": "code",
   "execution_count": 15,
   "id": "49658cff-1cb8-4482-9de1-59769d19e057",
   "metadata": {},
   "outputs": [
    {
     "name": "stdout",
     "output_type": "stream",
     "text": [
      "Finished reading from ../home/schen9/glove.6B.300d-vocabulary.txt\n"
     ]
    }
   ],
   "source": [
    "with open(glove_filepath, \"r\", encoding=\"utf-8\") as text_file:\n",
    "    glove_rows = text_file.read().strip().split(\"\\n\")\n",
    "\n",
    "print(f\"Finished reading from {glove_filepath}\") "
   ]
  },
  {
   "cell_type": "code",
   "execution_count": 16,
   "id": "c02379d3-a159-4f1c-a7c7-039b154f8896",
   "metadata": {},
   "outputs": [
    {
     "data": {
      "application/vnd.jupyter.widget-view+json": {
       "model_id": "f79b5a6956e64e8183786abb8c92ba77",
       "version_major": 2,
       "version_minor": 0
      },
      "text/plain": [
       "  0%|          | 0/400000 [00:00<?, ?it/s]"
      ]
     },
     "metadata": {},
     "output_type": "display_data"
    },
    {
     "name": "stdout",
     "output_type": "stream",
     "text": [
      "Finished writing to glove.csv\n"
     ]
    }
   ],
   "source": [
    "import csv\n",
    "\n",
    "with open(csv_glove_filepath, \"w\", encoding=\"utf-8\") as csv_file:\n",
    "    writer = csv.writer(csv_file)\n",
    "    writer.writerow([\"Text\"]) # Header\n",
    "    for i, row in enumerate(tqdm(glove_rows)):\n",
    "        writer.writerow([row.strip()])\n",
    "\n",
    "print(f\"Finished writing to {csv_glove_filepath}\") "
   ]
  },
  {
   "cell_type": "code",
   "execution_count": 17,
   "id": "949f0d61-011b-4fd1-a45f-2fba56e18840",
   "metadata": {},
   "outputs": [
    {
     "data": {
      "application/vnd.jupyter.widget-view+json": {
       "model_id": "4506bbece1d34197a5cb63914bfb18d3",
       "version_major": 2,
       "version_minor": 0
      },
      "text/plain": [
       "Generating train split: 0 examples [00:00, ? examples/s]"
      ]
     },
     "metadata": {},
     "output_type": "display_data"
    },
    {
     "data": {
      "application/vnd.jupyter.widget-view+json": {
       "model_id": "753323714d0d46fbb60b230f55d9a6d8",
       "version_major": 2,
       "version_minor": 0
      },
      "text/plain": [
       "Filter:   0%|          | 0/400000 [00:00<?, ? examples/s]"
      ]
     },
     "metadata": {},
     "output_type": "display_data"
    },
    {
     "data": {
      "text/plain": [
       "DatasetDict({\n",
       "    train: Dataset({\n",
       "        features: ['Text'],\n",
       "        num_rows: 399997\n",
       "    })\n",
       "})"
      ]
     },
     "execution_count": 17,
     "metadata": {},
     "output_type": "execute_result"
    }
   ],
   "source": [
    "from datasets import Dataset, load_dataset\n",
    "\n",
    "glove_dataset = load_dataset(\"csv\",data_files=csv_glove_filepath) \n",
    "glove_dataset = glove_dataset.filter(lambda x: x[\"Text\"] is not None) # filter out NoneTypes\n",
    "glove_dataset"
   ]
  },
  {
   "cell_type": "code",
   "execution_count": 18,
   "id": "13045405-e32b-4d98-bc79-a0a46b62b71e",
   "metadata": {},
   "outputs": [],
   "source": [
    "from transformers import AutoTokenizer\n",
    "\n",
    "transformer_name = \"FacebookAI/roberta-base\"\n",
    "tokenizer = AutoTokenizer.from_pretrained(transformer_name, use_fast=True)"
   ]
  },
  {
   "cell_type": "code",
   "execution_count": 19,
   "id": "c8214cbc-d472-4b63-9555-21e63b04dcd5",
   "metadata": {},
   "outputs": [
    {
     "data": {
      "application/vnd.jupyter.widget-view+json": {
       "model_id": "6ae6c3b5f04d4cb48e390d50fc4c5ebe",
       "version_major": 2,
       "version_minor": 0
      },
      "text/plain": [
       "Map:   0%|          | 0/399997 [00:00<?, ? examples/s]"
      ]
     },
     "metadata": {},
     "output_type": "display_data"
    },
    {
     "data": {
      "text/plain": [
       "DatasetDict({\n",
       "    train: Dataset({\n",
       "        features: ['Text', 'input_ids', 'attention_mask'],\n",
       "        num_rows: 399997\n",
       "    })\n",
       "})"
      ]
     },
     "execution_count": 19,
     "metadata": {},
     "output_type": "execute_result"
    }
   ],
   "source": [
    "def tokenize(batch):\n",
    "    return tokenizer(batch[\"Text\"], truncation=True)\n",
    "\n",
    "batch_size = 50\n",
    "glove_tokens = glove_dataset.map(tokenize, batched=True, batch_size=batch_size)\n",
    "glove_tokens"
   ]
  },
  {
   "cell_type": "code",
   "execution_count": 22,
   "id": "d264af14-abfb-4f2c-ab66-c3a2e18fa743",
   "metadata": {},
   "outputs": [
    {
     "data": {
      "text/html": [
       "<div>\n",
       "<style scoped>\n",
       "    .dataframe tbody tr th:only-of-type {\n",
       "        vertical-align: middle;\n",
       "    }\n",
       "\n",
       "    .dataframe tbody tr th {\n",
       "        vertical-align: top;\n",
       "    }\n",
       "\n",
       "    .dataframe thead th {\n",
       "        text-align: right;\n",
       "    }\n",
       "</style>\n",
       "<table border=\"1\" class=\"dataframe\">\n",
       "  <thead>\n",
       "    <tr style=\"text-align: right;\">\n",
       "      <th></th>\n",
       "      <th>Text</th>\n",
       "      <th>input_ids</th>\n",
       "      <th>attention_mask</th>\n",
       "    </tr>\n",
       "  </thead>\n",
       "  <tbody>\n",
       "    <tr>\n",
       "      <th>0</th>\n",
       "      <td>the</td>\n",
       "      <td>[0, 627, 2]</td>\n",
       "      <td>[1, 1, 1]</td>\n",
       "    </tr>\n",
       "    <tr>\n",
       "      <th>1</th>\n",
       "      <td>,</td>\n",
       "      <td>[0, 6, 2]</td>\n",
       "      <td>[1, 1, 1]</td>\n",
       "    </tr>\n",
       "    <tr>\n",
       "      <th>2</th>\n",
       "      <td>.</td>\n",
       "      <td>[0, 4, 2]</td>\n",
       "      <td>[1, 1, 1]</td>\n",
       "    </tr>\n",
       "    <tr>\n",
       "      <th>3</th>\n",
       "      <td>of</td>\n",
       "      <td>[0, 1116, 2]</td>\n",
       "      <td>[1, 1, 1]</td>\n",
       "    </tr>\n",
       "    <tr>\n",
       "      <th>4</th>\n",
       "      <td>to</td>\n",
       "      <td>[0, 560, 2]</td>\n",
       "      <td>[1, 1, 1]</td>\n",
       "    </tr>\n",
       "    <tr>\n",
       "      <th>...</th>\n",
       "      <td>...</td>\n",
       "      <td>...</td>\n",
       "      <td>...</td>\n",
       "    </tr>\n",
       "    <tr>\n",
       "      <th>399992</th>\n",
       "      <td>chanty</td>\n",
       "      <td>[0, 40805, 219, 2]</td>\n",
       "      <td>[1, 1, 1, 1]</td>\n",
       "    </tr>\n",
       "    <tr>\n",
       "      <th>399993</th>\n",
       "      <td>kronik</td>\n",
       "      <td>[0, 330, 2839, 967, 2]</td>\n",
       "      <td>[1, 1, 1, 1, 1]</td>\n",
       "    </tr>\n",
       "    <tr>\n",
       "      <th>399994</th>\n",
       "      <td>rolonda</td>\n",
       "      <td>[0, 9396, 11192, 2]</td>\n",
       "      <td>[1, 1, 1, 1]</td>\n",
       "    </tr>\n",
       "    <tr>\n",
       "      <th>399995</th>\n",
       "      <td>zsombor</td>\n",
       "      <td>[0, 329, 29, 5223, 368, 2]</td>\n",
       "      <td>[1, 1, 1, 1, 1, 1]</td>\n",
       "    </tr>\n",
       "    <tr>\n",
       "      <th>399996</th>\n",
       "      <td>sandberger</td>\n",
       "      <td>[0, 39009, 11178, 2]</td>\n",
       "      <td>[1, 1, 1, 1]</td>\n",
       "    </tr>\n",
       "  </tbody>\n",
       "</table>\n",
       "<p>399997 rows × 3 columns</p>\n",
       "</div>"
      ],
      "text/plain": [
       "              Text                   input_ids      attention_mask\n",
       "0              the                 [0, 627, 2]           [1, 1, 1]\n",
       "1                ,                   [0, 6, 2]           [1, 1, 1]\n",
       "2                .                   [0, 4, 2]           [1, 1, 1]\n",
       "3               of                [0, 1116, 2]           [1, 1, 1]\n",
       "4               to                 [0, 560, 2]           [1, 1, 1]\n",
       "...            ...                         ...                 ...\n",
       "399992      chanty          [0, 40805, 219, 2]        [1, 1, 1, 1]\n",
       "399993      kronik      [0, 330, 2839, 967, 2]     [1, 1, 1, 1, 1]\n",
       "399994     rolonda         [0, 9396, 11192, 2]        [1, 1, 1, 1]\n",
       "399995     zsombor  [0, 329, 29, 5223, 368, 2]  [1, 1, 1, 1, 1, 1]\n",
       "399996  sandberger        [0, 39009, 11178, 2]        [1, 1, 1, 1]\n",
       "\n",
       "[399997 rows x 3 columns]"
      ]
     },
     "execution_count": 22,
     "metadata": {},
     "output_type": "execute_result"
    }
   ],
   "source": [
    "glove_df = glove_tokens[\"train\"].to_pandas()\n",
    "glove_df"
   ]
  },
  {
   "cell_type": "code",
   "execution_count": 23,
   "id": "6ed1b32e-76f4-4fc4-80e0-d66722262083",
   "metadata": {},
   "outputs": [],
   "source": [
    "word_embeddings = {}"
   ]
  },
  {
   "cell_type": "code",
   "execution_count": 44,
   "id": "76b92cc3-fd93-4137-8a59-7a778f7d195a",
   "metadata": {
    "scrolled": true
   },
   "outputs": [
    {
     "data": {
      "application/vnd.jupyter.widget-view+json": {
       "model_id": "c46a22989b8a4f20a38cc1aa7152c8e5",
       "version_major": 2,
       "version_minor": 0
      },
      "text/plain": [
       "  0%|          | 0/399997 [00:00<?, ?it/s]"
      ]
     },
     "metadata": {},
     "output_type": "display_data"
    }
   ],
   "source": [
    "for word, t_vector in tqdm(zip(glove_df[\"Text\"], glove_df[\"input_ids\"]), total=len(glove_df)):\n",
    "    embeddings = [avg_embeddings[token].to(device) for token in t_vector if token in avg_embeddings]\n",
    "    w_embedding = torch.empty(embeddings[0].shape[0]).to(device)\n",
    "    for emb in embeddings:\n",
    "        w_embedding = torch.add(w_embedding,emb.to(device))\n",
    "    word_embeddings[word] = torch.div(w_embedding, len(embeddings))"
   ]
  },
  {
   "cell_type": "code",
   "execution_count": 42,
   "id": "22a248aa-666e-44c6-ab56-8e9993dbafd8",
   "metadata": {},
   "outputs": [
    {
     "data": {
      "text/plain": [
       "768"
      ]
     },
     "execution_count": 42,
     "metadata": {},
     "output_type": "execute_result"
    }
   ],
   "source": [
    "avg_embeddings[6026].shape[0]"
   ]
  },
  {
   "cell_type": "code",
   "execution_count": 49,
   "id": "ed34e8f7-79d6-4b81-865c-1f7effbbcf68",
   "metadata": {},
   "outputs": [],
   "source": [
    "import pickle \n",
    "\n",
    "with open('word_embeddings_partial.pkl', 'wb') as f:\n",
    "    pickle.dump(word_embeddings, f)"
   ]
  },
  {
   "cell_type": "code",
   "execution_count": 48,
   "id": "de04d89b-0986-41d8-9fe7-576c089b2699",
   "metadata": {},
   "outputs": [],
   "source": [
    "def cosine_similarity(word1_tensor,word2_tensor):\n",
    "    return torch.dot(word1_tensor,word2_tensor) / (torch.norm(word1_tensor) * (word2_tensor))"
   ]
  },
  {
   "cell_type": "code",
   "execution_count": null,
   "id": "d9d3d32a-2223-43d0-ae63-4f3fca865ac6",
   "metadata": {},
   "outputs": [],
   "source": [
    "def word_similarity(word1,word2):\n",
    "    w1_tensor = word_embeddings[word1]\n",
    "    w2_tensor = word_embeddings[word2]"
   ]
  },
  {
   "cell_type": "code",
   "execution_count": null,
   "id": "d2e04d6e-23ec-4fd0-92fc-7ff7c84296ae",
   "metadata": {},
   "outputs": [],
   "source": [
    "most_similar(\"cactus\")"
   ]
  },
  {
   "cell_type": "code",
   "execution_count": null,
   "id": "14b762c7-5b97-4a57-a0f3-85dfa200c573",
   "metadata": {},
   "outputs": [],
   "source": [
    "most_similar(\"cake\")"
   ]
  },
  {
   "cell_type": "code",
   "execution_count": null,
   "id": "8b9c4129-330d-4799-a24d-dd37eeadaa66",
   "metadata": {},
   "outputs": [],
   "source": [
    "most_similar(\"angry\")"
   ]
  },
  {
   "cell_type": "code",
   "execution_count": null,
   "id": "58d7a920-d813-451c-a735-6d46124150b8",
   "metadata": {},
   "outputs": [],
   "source": [
    "most_similar(\"quickly\")"
   ]
  },
  {
   "cell_type": "code",
   "execution_count": null,
   "id": "31d9f07a-f388-4c40-beb3-7c02acdd893b",
   "metadata": {},
   "outputs": [],
   "source": [
    "most_similar(\"between\")"
   ]
  },
  {
   "cell_type": "code",
   "execution_count": null,
   "id": "e1b48039-ff31-43df-b813-024683cba2bb",
   "metadata": {},
   "outputs": [],
   "source": [
    "most_similar(\"the\")"
   ]
  }
 ],
 "metadata": {
  "kernelspec": {
   "display_name": "Python 3 (ipykernel)",
   "language": "python",
   "name": "python3"
  },
  "language_info": {
   "codemirror_mode": {
    "name": "ipython",
    "version": 3
   },
   "file_extension": ".py",
   "mimetype": "text/x-python",
   "name": "python",
   "nbconvert_exporter": "python",
   "pygments_lexer": "ipython3",
   "version": "3.11.8"
  }
 },
 "nbformat": 4,
 "nbformat_minor": 5
}
