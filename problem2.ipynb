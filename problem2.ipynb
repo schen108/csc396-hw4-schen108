{
 "cells": [
  {
   "cell_type": "markdown",
   "id": "46b547d6-486f-4e5f-b69c-9500b7164fb7",
   "metadata": {},
   "source": [
    "# Problem 2"
   ]
  },
  {
   "cell_type": "code",
   "execution_count": 1,
   "id": "de4f530a-fbdd-4938-8529-26c225f4f608",
   "metadata": {},
   "outputs": [
    {
     "name": "stdout",
     "output_type": "stream",
     "text": [
      "cuda\n",
      "cpu\n"
     ]
    }
   ],
   "source": [
    "import pandas as pd\n",
    "import numpy as np\n",
    "import torch\n",
    "from tqdm.notebook import tqdm\n",
    "\n",
    "device = torch.device(\"cuda\" if torch.cuda.is_available() else \"cpu\")\n",
    "print(device)\n",
    "\n",
    "cpu = torch.device(\"cpu\")\n",
    "print(cpu)"
   ]
  },
  {
   "cell_type": "code",
   "execution_count": 2,
   "id": "22f80913-f18c-4eda-bbd7-fa26d9737b0f",
   "metadata": {},
   "outputs": [],
   "source": [
    "import pickle \n",
    "\n",
    "with open('avg_embeddings.pkl', 'rb') as f:\n",
    "    avg_embeddings = pickle.load(f)"
   ]
  },
  {
   "cell_type": "code",
   "execution_count": 3,
   "id": "a4bcf937-23b7-4795-9a49-c4e56f4e85fa",
   "metadata": {},
   "outputs": [
    {
     "data": {
      "text/plain": [
       "49381"
      ]
     },
     "execution_count": 3,
     "metadata": {},
     "output_type": "execute_result"
    }
   ],
   "source": [
    "len(avg_embeddings)"
   ]
  },
  {
   "cell_type": "code",
   "execution_count": 4,
   "id": "623ae355-b988-4155-9e8a-d6b48ffe8229",
   "metadata": {},
   "outputs": [],
   "source": [
    "glove_filepath = \"../home/schen9/glove.6B.300d-vocabulary.txt\"\n",
    "csv_glove_filepath = \"glove.csv\""
   ]
  },
  {
   "cell_type": "code",
   "execution_count": 5,
   "id": "49658cff-1cb8-4482-9de1-59769d19e057",
   "metadata": {},
   "outputs": [
    {
     "name": "stdout",
     "output_type": "stream",
     "text": [
      "Finished reading from ../home/schen9/glove.6B.300d-vocabulary.txt\n"
     ]
    }
   ],
   "source": [
    "with open(glove_filepath, \"r\", encoding=\"utf-8\") as text_file:\n",
    "    glove_rows = text_file.read().strip().split(\"\\n\")\n",
    "\n",
    "print(f\"Finished reading from {glove_filepath}\") "
   ]
  },
  {
   "cell_type": "code",
   "execution_count": 6,
   "id": "c02379d3-a159-4f1c-a7c7-039b154f8896",
   "metadata": {},
   "outputs": [
    {
     "data": {
      "application/vnd.jupyter.widget-view+json": {
       "model_id": "b0cdd6ce7513400abe14941a57d545bc",
       "version_major": 2,
       "version_minor": 0
      },
      "text/plain": [
       "  0%|          | 0/400000 [00:00<?, ?it/s]"
      ]
     },
     "metadata": {},
     "output_type": "display_data"
    },
    {
     "name": "stdout",
     "output_type": "stream",
     "text": [
      "Finished writing to glove.csv\n"
     ]
    }
   ],
   "source": [
    "import csv\n",
    "\n",
    "with open(csv_glove_filepath, \"w\", encoding=\"utf-8\") as csv_file:\n",
    "    writer = csv.writer(csv_file)\n",
    "    writer.writerow([\"Text\"]) # Header\n",
    "    for i, row in enumerate(tqdm(glove_rows)):\n",
    "        writer.writerow([row.strip()])\n",
    "\n",
    "print(f\"Finished writing to {csv_glove_filepath}\") "
   ]
  },
  {
   "cell_type": "code",
   "execution_count": 7,
   "id": "949f0d61-011b-4fd1-a45f-2fba56e18840",
   "metadata": {},
   "outputs": [
    {
     "data": {
      "application/vnd.jupyter.widget-view+json": {
       "model_id": "fa30c34f18be41a2b935f6f61c89d720",
       "version_major": 2,
       "version_minor": 0
      },
      "text/plain": [
       "Generating train split: 0 examples [00:00, ? examples/s]"
      ]
     },
     "metadata": {},
     "output_type": "display_data"
    },
    {
     "data": {
      "application/vnd.jupyter.widget-view+json": {
       "model_id": "6c16997a6b6448d6a3481fda7c920105",
       "version_major": 2,
       "version_minor": 0
      },
      "text/plain": [
       "Filter:   0%|          | 0/400000 [00:00<?, ? examples/s]"
      ]
     },
     "metadata": {},
     "output_type": "display_data"
    },
    {
     "data": {
      "text/plain": [
       "DatasetDict({\n",
       "    train: Dataset({\n",
       "        features: ['Text'],\n",
       "        num_rows: 399997\n",
       "    })\n",
       "})"
      ]
     },
     "execution_count": 7,
     "metadata": {},
     "output_type": "execute_result"
    }
   ],
   "source": [
    "from datasets import Dataset, load_dataset\n",
    "\n",
    "glove_dataset = load_dataset(\"csv\",data_files=csv_glove_filepath) \n",
    "glove_dataset = glove_dataset.filter(lambda x: x[\"Text\"] is not None) # filter out NoneTypes\n",
    "glove_dataset"
   ]
  },
  {
   "cell_type": "code",
   "execution_count": 8,
   "id": "13045405-e32b-4d98-bc79-a0a46b62b71e",
   "metadata": {},
   "outputs": [],
   "source": [
    "from transformers import AutoTokenizer\n",
    "\n",
    "transformer_name = \"FacebookAI/roberta-base\"\n",
    "tokenizer = AutoTokenizer.from_pretrained(transformer_name, use_fast=True)"
   ]
  },
  {
   "cell_type": "code",
   "execution_count": 9,
   "id": "c8214cbc-d472-4b63-9555-21e63b04dcd5",
   "metadata": {},
   "outputs": [
    {
     "data": {
      "application/vnd.jupyter.widget-view+json": {
       "model_id": "fe356046e8c24e73841997e7a129d8e6",
       "version_major": 2,
       "version_minor": 0
      },
      "text/plain": [
       "Map:   0%|          | 0/399997 [00:00<?, ? examples/s]"
      ]
     },
     "metadata": {},
     "output_type": "display_data"
    },
    {
     "data": {
      "text/plain": [
       "DatasetDict({\n",
       "    train: Dataset({\n",
       "        features: ['Text', 'input_ids', 'attention_mask'],\n",
       "        num_rows: 399997\n",
       "    })\n",
       "})"
      ]
     },
     "execution_count": 9,
     "metadata": {},
     "output_type": "execute_result"
    }
   ],
   "source": [
    "def tokenize(batch):\n",
    "    return tokenizer(batch[\"Text\"], truncation=True)\n",
    "\n",
    "batch_size = 50\n",
    "glove_tokens = glove_dataset.map(tokenize, batched=True, batch_size=batch_size)\n",
    "glove_tokens"
   ]
  },
  {
   "cell_type": "code",
   "execution_count": 10,
   "id": "d264af14-abfb-4f2c-ab66-c3a2e18fa743",
   "metadata": {},
   "outputs": [
    {
     "data": {
      "text/html": [
       "<div>\n",
       "<style scoped>\n",
       "    .dataframe tbody tr th:only-of-type {\n",
       "        vertical-align: middle;\n",
       "    }\n",
       "\n",
       "    .dataframe tbody tr th {\n",
       "        vertical-align: top;\n",
       "    }\n",
       "\n",
       "    .dataframe thead th {\n",
       "        text-align: right;\n",
       "    }\n",
       "</style>\n",
       "<table border=\"1\" class=\"dataframe\">\n",
       "  <thead>\n",
       "    <tr style=\"text-align: right;\">\n",
       "      <th></th>\n",
       "      <th>Text</th>\n",
       "      <th>input_ids</th>\n",
       "      <th>attention_mask</th>\n",
       "    </tr>\n",
       "  </thead>\n",
       "  <tbody>\n",
       "    <tr>\n",
       "      <th>0</th>\n",
       "      <td>the</td>\n",
       "      <td>[0, 627, 2]</td>\n",
       "      <td>[1, 1, 1]</td>\n",
       "    </tr>\n",
       "    <tr>\n",
       "      <th>1</th>\n",
       "      <td>,</td>\n",
       "      <td>[0, 6, 2]</td>\n",
       "      <td>[1, 1, 1]</td>\n",
       "    </tr>\n",
       "    <tr>\n",
       "      <th>2</th>\n",
       "      <td>.</td>\n",
       "      <td>[0, 4, 2]</td>\n",
       "      <td>[1, 1, 1]</td>\n",
       "    </tr>\n",
       "    <tr>\n",
       "      <th>3</th>\n",
       "      <td>of</td>\n",
       "      <td>[0, 1116, 2]</td>\n",
       "      <td>[1, 1, 1]</td>\n",
       "    </tr>\n",
       "    <tr>\n",
       "      <th>4</th>\n",
       "      <td>to</td>\n",
       "      <td>[0, 560, 2]</td>\n",
       "      <td>[1, 1, 1]</td>\n",
       "    </tr>\n",
       "    <tr>\n",
       "      <th>...</th>\n",
       "      <td>...</td>\n",
       "      <td>...</td>\n",
       "      <td>...</td>\n",
       "    </tr>\n",
       "    <tr>\n",
       "      <th>399992</th>\n",
       "      <td>chanty</td>\n",
       "      <td>[0, 40805, 219, 2]</td>\n",
       "      <td>[1, 1, 1, 1]</td>\n",
       "    </tr>\n",
       "    <tr>\n",
       "      <th>399993</th>\n",
       "      <td>kronik</td>\n",
       "      <td>[0, 330, 2839, 967, 2]</td>\n",
       "      <td>[1, 1, 1, 1, 1]</td>\n",
       "    </tr>\n",
       "    <tr>\n",
       "      <th>399994</th>\n",
       "      <td>rolonda</td>\n",
       "      <td>[0, 9396, 11192, 2]</td>\n",
       "      <td>[1, 1, 1, 1]</td>\n",
       "    </tr>\n",
       "    <tr>\n",
       "      <th>399995</th>\n",
       "      <td>zsombor</td>\n",
       "      <td>[0, 329, 29, 5223, 368, 2]</td>\n",
       "      <td>[1, 1, 1, 1, 1, 1]</td>\n",
       "    </tr>\n",
       "    <tr>\n",
       "      <th>399996</th>\n",
       "      <td>sandberger</td>\n",
       "      <td>[0, 39009, 11178, 2]</td>\n",
       "      <td>[1, 1, 1, 1]</td>\n",
       "    </tr>\n",
       "  </tbody>\n",
       "</table>\n",
       "<p>399997 rows × 3 columns</p>\n",
       "</div>"
      ],
      "text/plain": [
       "              Text                   input_ids      attention_mask\n",
       "0              the                 [0, 627, 2]           [1, 1, 1]\n",
       "1                ,                   [0, 6, 2]           [1, 1, 1]\n",
       "2                .                   [0, 4, 2]           [1, 1, 1]\n",
       "3               of                [0, 1116, 2]           [1, 1, 1]\n",
       "4               to                 [0, 560, 2]           [1, 1, 1]\n",
       "...            ...                         ...                 ...\n",
       "399992      chanty          [0, 40805, 219, 2]        [1, 1, 1, 1]\n",
       "399993      kronik      [0, 330, 2839, 967, 2]     [1, 1, 1, 1, 1]\n",
       "399994     rolonda         [0, 9396, 11192, 2]        [1, 1, 1, 1]\n",
       "399995     zsombor  [0, 329, 29, 5223, 368, 2]  [1, 1, 1, 1, 1, 1]\n",
       "399996  sandberger        [0, 39009, 11178, 2]        [1, 1, 1, 1]\n",
       "\n",
       "[399997 rows x 3 columns]"
      ]
     },
     "execution_count": 10,
     "metadata": {},
     "output_type": "execute_result"
    }
   ],
   "source": [
    "glove_df = glove_tokens[\"train\"].to_pandas()\n",
    "glove_df"
   ]
  },
  {
   "cell_type": "code",
   "execution_count": 11,
   "id": "6ed1b32e-76f4-4fc4-80e0-d66722262083",
   "metadata": {},
   "outputs": [],
   "source": [
    "word_embeddings = {}"
   ]
  },
  {
   "cell_type": "code",
   "execution_count": 12,
   "id": "76b92cc3-fd93-4137-8a59-7a778f7d195a",
   "metadata": {
    "scrolled": true
   },
   "outputs": [
    {
     "data": {
      "application/vnd.jupyter.widget-view+json": {
       "model_id": "1cb086cc0efe4ad7aa4857b33e183dfc",
       "version_major": 2,
       "version_minor": 0
      },
      "text/plain": [
       "  0%|          | 0/399997 [00:00<?, ?it/s]"
      ]
     },
     "metadata": {},
     "output_type": "display_data"
    }
   ],
   "source": [
    "for word, t_vector in tqdm(zip(glove_df[\"Text\"], glove_df[\"input_ids\"]), total=len(glove_df)):\n",
    "    embeddings = [avg_embeddings[token].to(device) for token in t_vector if token in avg_embeddings]\n",
    "    w_embedding = torch.empty(embeddings[0].shape[0]).to(device)\n",
    "    for emb in embeddings:\n",
    "        w_embedding = torch.add(w_embedding,emb.to(device))\n",
    "    word_embeddings[word] = torch.div(w_embedding, len(embeddings))"
   ]
  },
  {
   "cell_type": "code",
   "execution_count": 14,
   "id": "22a248aa-666e-44c6-ab56-8e9993dbafd8",
   "metadata": {},
   "outputs": [
    {
     "data": {
      "text/plain": [
       "768"
      ]
     },
     "execution_count": 14,
     "metadata": {},
     "output_type": "execute_result"
    }
   ],
   "source": [
    "avg_embeddings[6026].shape[0]"
   ]
  },
  {
   "cell_type": "code",
   "execution_count": 13,
   "id": "ed34e8f7-79d6-4b81-865c-1f7effbbcf68",
   "metadata": {},
   "outputs": [],
   "source": [
    "import pickle \n",
    "\n",
    "with open('word_embeddings.pkl', 'wb') as f:\n",
    "    pickle.dump(word_embeddings, f)"
   ]
  },
  {
   "cell_type": "code",
   "execution_count": null,
   "id": "d9d3d32a-2223-43d0-ae63-4f3fca865ac6",
   "metadata": {},
   "outputs": [],
   "source": [
    "# def word_similarity(word1,word2,eps=1):\n",
    "#     w1_tensor = torch.nan_to_num(word_embeddings[word1])\n",
    "#     w2_tensor = torch.nan_to_num(word_embeddings[word2])\n",
    "#     w1_tensor = torch.nn.functional.normalize(w1_tensor, p=2, dim=0)\n",
    "#     w2_tensor = torch.nn.functional.normalize(w2_tensor, p=2, dim=0)\n",
    "#     print(torch.norm(w1_tensor))\n",
    "#     print(torch.norm(w2_tensor))\n",
    "#     print(w1_tensor)\n",
    "#     print(w2_tensor)\n",
    "#     return torch.dot(w1_tensor,w2_tensor)\n",
    "\n",
    "def word_similarity(word1,word2,debug=False):\n",
    "    w1_tensor = word_embeddings[word1].to(cpu)\n",
    "    w2_tensor = word_embeddings[word2].to(cpu)\n",
    "    # w1_tensor = torch.nn.functional.normalize(w1_tensor, p=2, dim=0)\n",
    "    # w2_tensor = torch.nn.functional.normalize(w2_tensor, p=2, dim=0)\n",
    "    if debug:\n",
    "        print(torch.norm(w1_tensor))\n",
    "        print(torch.norm(w2_tensor))\n",
    "    # w1_tensor[0] = 0\n",
    "    # w2_tensor[0] = 0\n",
    "        print(w1_tensor[0])\n",
    "        print(w1_tensor)\n",
    "    # print(w2_tensor)\n",
    "    return torch.dot(w1_tensor,w2_tensor) / (torch.norm(w1_tensor) * torch.norm(w2_tensor))\n",
    "\n",
    "# def word_similarity(word1,word2,eps=1):\n",
    "#     print(word_embeddings[word1])\n",
    "#     w1 = torch.nan_to_num(word_embeddings[word1],nan=1).to(cpu).numpy()\n",
    "#     w2 = torch.nan_to_num(word_embeddings[word2],nan=1).to(cpu).numpy()\n",
    "#     print(w1)\n",
    "#     return w1 @ w2"
   ]
  },
  {
   "cell_type": "code",
   "execution_count": 23,
   "id": "de04d89b-0986-41d8-9fe7-576c089b2699",
   "metadata": {},
   "outputs": [],
   "source": [
    "def most_similar(word, topn=10):\n",
    "    word_similarities = []\n",
    "    for w, emb in word_embeddings.items():\n",
    "        if w != word:\n",
    "            similarity = word_similarity(w,word)\n",
    "            word_similarities.append((w,similarity))\n",
    "    return sorted(word_similarities, key=lambda x: x[1])[:topn]"
   ]
  },
  {
   "cell_type": "code",
   "execution_count": null,
   "id": "16546110-7c36-4c37-aae1-d3e65f7ad36e",
   "metadata": {
    "scrolled": true
   },
   "outputs": [],
   "source": [
    "word_similarity(\"kitty\",\"kitten\", debug=True)"
   ]
  },
  {
   "cell_type": "code",
   "execution_count": 19,
   "id": "ef81ea16-265e-492a-b00d-cf8200a7de16",
   "metadata": {},
   "outputs": [
    {
     "name": "stdout",
     "output_type": "stream",
     "text": [
      "tensor([-6.7794e+08, -3.5859e-01, -6.7794e+08, -8.1448e-02, -1.4206e-01,\n",
      "         1.1236e-01, -5.9517e-02,  1.2287e+00,  8.7674e+19, -6.8239e-02,\n",
      "         4.2910e+30,  2.4043e+22,  2.7732e+35,  2.4488e+28,  5.6780e+18,\n",
      "         9.6525e+31, -5.2046e-01,  1.9356e+25,  2.6350e+31,  1.1726e+33,\n",
      "         2.2765e+22,  2.6971e+20, -2.5264e-01,  3.8941e+18,  2.2474e+22,\n",
      "         2.4488e+28,  2.3263e+22,  1.5150e+30,  6.1745e+27,  2.5972e-01,\n",
      "        -1.7488e-01,  9.0421e-02,  2.4488e+28,  5.6780e+18,  2.3354e+22,\n",
      "         1.2353e-01,  2.5726e+28,  2.1195e+28,  1.0976e+00,  3.8941e+18,\n",
      "         1.5510e+33,  1.0115e+32, -1.5904e-01,  3.9561e+26,  1.3309e-02,\n",
      "         2.2969e+22,  2.4488e+28,  2.3263e+22,  1.5421e-01,  1.0127e+29,\n",
      "         1.5149e+30,  5.7422e+21,  6.4544e+30,  5.9522e+30, -2.7974e-03,\n",
      "         6.2051e+24,  1.4408e+27,  3.9555e+26,  2.4239e+22,  2.4083e+28,\n",
      "        -3.0544e-02, -1.2028e+00, -8.2060e-02,  3.7714e+32,  5.9423e+18,\n",
      "         2.3354e+22,  8.6357e-02,  2.5726e+28,  5.4013e+24, -8.7297e-02,\n",
      "         3.6289e+26,  5.7263e+18,  2.5188e+31,  4.3715e-01,  1.0062e+32,\n",
      "         2.9084e-01,  5.9534e+24,  5.6273e+24,  6.2695e+30,  4.1323e+27,\n",
      "         9.4931e-02,  3.6289e+26,  5.7263e+18,  9.3029e+22,  4.1323e+27,\n",
      "         1.1245e-01,  2.3328e+28,  1.5145e+30,  2.5288e+31, -1.6453e-01,\n",
      "         1.0062e+32,  6.4614e-02,  1.5805e+30,  5.8222e+18,  2.4338e+31,\n",
      "         4.1323e+27,  1.3855e-01,  2.3328e+28,  1.5145e+30,  3.6747e+23,\n",
      "         5.6175e-01,  3.9561e+26, -2.9917e-01,  5.9629e+21,  2.3604e+31,\n",
      "        -8.1735e-01,  3.9561e+26,  1.7571e-01,  2.5822e+31,  1.0937e-01,\n",
      "         3.9561e+26,  3.2366e-01,  1.0044e+29,  2.4380e-02,  1.0062e+32,\n",
      "         1.7954e-01,  2.3258e+22,  5.9168e-01,  3.8115e+26,  6.3801e+22,\n",
      "         5.9663e+18,  1.6187e+33,  4.1323e+27,  1.0193e+00,  1.5260e+30,\n",
      "         8.5851e+19, -2.8991e-02,  1.0062e+32, -1.7102e-01,  6.1051e+24,\n",
      "         9.5231e+31,  1.3739e+21,  1.5824e+27, -5.8132e-01,  3.9561e+26,\n",
      "         5.6834e-02,  5.7418e+21,  2.5921e+31,  3.7134e+26, -2.0900e-03,\n",
      "         3.9561e+26, -9.2917e-02,  5.7418e+21,  2.5921e+31,  2.5004e+28,\n",
      "         7.1133e-03,  3.9561e+26, -4.0794e-02,  5.7418e+21,  3.8587e+26,\n",
      "         5.3229e-02,  1.0062e+32, -2.9315e-02,  6.1051e+24,  8.8918e+19,\n",
      "         2.6630e+00,  3.8115e+26,  2.5521e+23,  5.4863e+18,  1.2624e+00,\n",
      "         1.0062e+32,  3.0578e-01,  6.1051e+24,  2.4042e+22,  9.0865e+19,\n",
      "         8.5853e+19,  5.9526e+30,  4.1323e+27,  3.8405e-01,  1.5260e+30,\n",
      "         2.3599e+31,  3.8755e+26,  5.5113e+18,  9.9906e+31,  1.5143e-01,\n",
      "         1.0062e+32, -5.0722e-01,  6.1051e+24,  2.4042e+22,  9.0865e+19,\n",
      "         1.4749e+30,  1.6320e-01,  1.0062e+32, -3.1539e-01,  5.7778e+24,\n",
      "         5.9211e-02,  1.0062e+32,  1.3135e-03,  6.4812e+30,  2.4924e+34,\n",
      "         6.1739e+27,  2.5184e+31,  4.1323e+27, -2.7181e-01,  9.8933e+31,\n",
      "         9.1872e+22,  2.4653e+31,  1.2018e-01,  1.0062e+32, -1.0332e-01,\n",
      "         9.0285e+22, -6.0759e-01,  3.8115e+26,  1.0453e+27,  5.8292e+24,\n",
      "         2.1908e-01,  3.8115e+26,  1.0453e+27,  1.4071e+24,  1.4571e+24,\n",
      "        -1.0877e-01,  3.8115e+26,  1.0453e+27,  1.5108e+33,  1.5388e+24,\n",
      "         4.1323e+27,  2.1311e-01,  5.9724e+24,  2.2861e+22,  2.4551e+31,\n",
      "         4.1323e+27,  1.1574e-01,  5.9724e+24,  6.2303e+24,  5.2212e-02,\n",
      "         1.0062e+32,  4.1541e-01,  2.2812e+25,  5.8700e+18,  7.8622e-02,\n",
      "         1.0062e+32,  7.6606e-01,  2.2812e+25,  5.8700e+18,  6.1312e+24,\n",
      "         6.1745e+27,  4.1323e+27, -3.1768e-01,  1.5788e+30,  2.7577e-01,\n",
      "         1.0062e+32,  4.2536e-01,  2.4245e+22,  2.4387e+28, -1.5172e-02,\n",
      "         3.8115e+26,  6.6901e+28,  5.7523e+24,  3.5934e-01,  3.9561e+26,\n",
      "        -1.3661e-01,  1.4571e+24,  1.6287e-01,  3.8115e+26,  1.7127e+31,\n",
      "        -2.2261e-01,  3.9561e+26, -5.5207e-02,  6.1306e+24,  5.9543e+24,\n",
      "        -3.5390e-01,  3.9561e+26,  3.1029e-01,  2.4129e+31, -4.1683e-01,\n",
      "         3.8115e+26,  1.0797e-01,  9.0692e+22,  9.2205e+28,  6.1390e+30,\n",
      "         1.5033e+16, -2.4843e-01,  1.5435e+27,  5.7400e+21,  1.3460e-01,\n",
      "        -4.6012e-02,  7.7795e-01,  5.6132e+21,  5.6291e-01,  5.5684e+21,\n",
      "         8.2144e-01,  1.6660e-01,  2.8472e+20, -2.4533e-01,  3.8154e+23,\n",
      "         5.7630e+27,  1.2447e+00,  1.6333e+25,  2.6350e+31,  1.1794e+33,\n",
      "         2.2765e+22,  3.8237e-01,  1.4885e+30,  5.8702e+18,  9.6525e+31,\n",
      "         3.7265e-01,  2.7319e-01, -1.1525e-01,  2.1913e-01, -1.2597e+00,\n",
      "         1.0033e+00, -1.1098e-01,  1.0430e+31, -3.0003e-01, -7.4297e-03,\n",
      "         2.8747e-01,         nan,         nan,  8.7674e+19,  2.7170e-01,\n",
      "         4.2910e+30,  2.4043e+22,  2.7732e+35,  2.3559e+28,  3.6650e+26,\n",
      "         2.3951e+22, -3.0655e-02, -5.4032e-01,  2.4488e+28,  5.6780e+18,\n",
      "         9.6525e+31,  1.2127e-01,  1.9356e+25,  2.6350e+31,  1.1726e+33,\n",
      "         2.2765e+22,  1.0788e+21,  1.6138e+30, -1.0114e-01,  3.8941e+18,\n",
      "         2.2474e+22,  2.4488e+28,  2.3263e+22,  1.5150e+30,  6.1745e+27,\n",
      "        -5.3463e-02, -1.5863e-01, -4.3736e-02,  2.4488e+28,  5.6780e+18,\n",
      "         2.3354e+22,  1.3421e-01,  1.7942e+07,  2.2474e+22,  1.8528e-01,\n",
      "         6.2051e+24,  1.3741e+21,  2.5190e+31,  4.1323e+27, -4.3447e-02,\n",
      "         3.7714e+32,  5.9423e+18,  9.6525e+31, -5.0359e-01,  1.9356e+25,\n",
      "         2.6350e+31,  1.1726e+33,  2.2765e+22,  1.0788e+21,  1.6138e+30,\n",
      "        -2.5991e-02,  3.8941e+18,  1.5510e+33,  5.8889e+21,  5.5106e+18,\n",
      "         6.4015e+30, -8.7512e-01, -2.3174e-01,  2.3164e-01, -4.5064e-02,\n",
      "         2.2969e+22,  9.1608e+19,  2.7250e-03,  1.1461e+12,  5.3973e+24,\n",
      "        -1.3149e-01,  2.2444e+22,  6.1048e+24,  2.4084e+28, -3.7768e-01,\n",
      "        -3.1099e-01,  6.0581e+30,  9.6331e+28,  6.1745e+27,  3.8102e+26,\n",
      "         1.4071e+24, -1.2578e-01,  8.8439e+19,  5.5065e-01,  9.0748e+19,\n",
      "         2.5927e+31, -4.0028e-01,  5.2197e+18,  1.0469e+03,  1.7014e-01,\n",
      "        -6.3973e-02, -3.5909e-01,  1.1092e+21,  2.2157e+22,  4.4123e+21,\n",
      "         1.7730e+22,  1.7864e-02,  1.0045e-01,  3.8707e+26,  1.4443e+24,\n",
      "         2.2473e+22,  2.5366e-01,  3.9811e-02, -4.9200e-01,  4.0210e+26,\n",
      "         1.2979e-01,  1.2214e+15,  2.7672e+02,  1.8593e-01,  7.2960e+22,\n",
      "         8.9810e+22,  6.3584e-02, -1.6148e-01,  8.9813e+22, -5.5979e-01,\n",
      "        -4.5082e-01, -5.7486e-03,  1.7127e+31,  8.7001e+19, -5.4036e-02,\n",
      "         1.0062e+32, -1.3821e-01,  2.4702e+28,  9.6334e+28,  4.1323e+27,\n",
      "         3.5683e-01,  9.4591e+19,  8.9708e-02, -1.9487e-01,  3.3557e-02,\n",
      "         9.0692e+22,  9.2205e+28,  6.1390e+30,  1.5033e+16, -4.3231e-01,\n",
      "         1.5435e+27,  5.7400e+21,  4.8711e-03, -1.7834e-01, -8.1117e-03,\n",
      "         9.3661e-02,  2.2450e+22,  2.2439e-01,  6.9321e+19, -1.2149e-01,\n",
      "         1.7422e-01, -1.8619e-01,  3.8154e+23,  5.7630e+27,  6.9421e-01,\n",
      "         1.6333e+25,  2.6350e+31,  1.1794e+33,  2.2765e+22, -1.4639e-01,\n",
      "         1.4885e+30,  5.8702e+18,  9.6525e+31, -2.3343e-01,  3.9561e+26,\n",
      "        -4.5780e-01, -7.8763e-02,  8.1879e-02,  1.7307e-01,  2.8925e-01,\n",
      "        -6.7792e+08, -8.0107e-02, -2.6724e-01, -6.8844e-01,  1.2466e-01,\n",
      "        -1.9315e-01,  3.7451e+06,  1.1388e-01, -2.1892e-01,  1.0558e-01,\n",
      "         8.7674e+19,  2.9072e-01,  4.2910e+30,  2.4043e+22,  2.7732e+35,\n",
      "         2.4488e+28,  5.6780e+18,  9.6525e+31,  6.5958e-01,  1.9356e+25,\n",
      "         2.6350e+31,  1.1726e+33,  2.2765e+22,  2.6971e+20,  2.1850e+00,\n",
      "         3.8941e+18,  2.2474e+22,  2.4488e+28,  2.3263e+22,  1.5150e+30,\n",
      "         6.1745e+27,  2.1228e-02, -3.4623e-01,  2.3181e-01,  2.4488e+28,\n",
      "         5.6780e+18,  2.3354e+22, -2.5085e-01,  2.5726e+28,  2.1195e+28,\n",
      "         2.9819e-01,  3.8941e+18,  1.5510e+33,  1.0115e+32, -8.4004e-03,\n",
      "         3.9561e+26, -1.9557e-01,  2.2969e+22,  2.4488e+28,  2.3263e+22,\n",
      "         3.1139e-01,  1.0127e+29,  1.5149e+30,  5.7422e+21,  6.4544e+30,\n",
      "         5.9522e+30,  1.3546e-01,  6.2051e+24,  1.4408e+27,  3.9555e+26,\n",
      "         2.4239e+22,  2.4083e+28,  1.4276e-01, -3.6576e-02,  4.6401e-02,\n",
      "         3.7714e+32,  5.9423e+18,  2.3354e+22, -2.0802e-01,  2.5726e+28,\n",
      "         5.4013e+24,  1.0761e-01,  3.6289e+26,  5.7263e+18,  2.5188e+31,\n",
      "        -9.6539e-02,  1.0062e+32, -1.8817e-01,  5.9534e+24,  5.6273e+24,\n",
      "         6.2695e+30,  4.1323e+27,  1.3906e-01,  3.6289e+26,  5.7263e+18,\n",
      "         9.3029e+22,  4.1323e+27,  1.9350e-01,  2.3328e+28,  1.5145e+30,\n",
      "         2.5288e+31, -6.9369e-01,  1.0062e+32,  1.2832e-01,  1.5805e+30,\n",
      "         5.8222e+18,  2.4338e+31,  4.1323e+27, -1.8687e-01,  2.3328e+28,\n",
      "         1.5145e+30,  3.6747e+23, -2.4259e-01,  3.9561e+26,  2.5078e-01,\n",
      "         5.9629e+21,  2.3604e+31, -1.7252e-01,  3.9561e+26,  2.4185e-01,\n",
      "         2.5822e+31,  5.8102e-02,  3.9561e+26,  3.6121e-01,  1.0044e+29,\n",
      "        -1.4355e-01,  1.0062e+32,  5.0499e-02,  2.3258e+22,  1.4875e-01,\n",
      "         3.8115e+26,  6.3801e+22,  5.9663e+18,  1.6187e+33,  4.1323e+27,\n",
      "         1.5849e-01,  1.5260e+30,  8.5851e+19,  8.8185e-02,  1.0062e+32,\n",
      "         1.4628e-01,  6.1051e+24,  9.5231e+31,  1.3739e+21,  1.5824e+27,\n",
      "        -1.3180e-01,  3.9561e+26,  2.0999e-01,  5.7418e+21,  2.5921e+31,\n",
      "         3.7134e+26,  1.1771e+00,  3.9561e+26,  1.0600e-02,  5.7418e+21,\n",
      "         2.5921e+31,  2.5004e+28,  6.7204e-02,  3.9561e+26,  1.3022e-01,\n",
      "         5.7418e+21,  3.8587e+26,  3.1853e-01,  1.0062e+32,  5.4631e-01,\n",
      "         6.1051e+24,  8.8918e+19,  4.1552e-01,  3.8115e+26,  2.5521e+23,\n",
      "         5.4863e+18,  4.9572e-02,  1.0062e+32,  2.6922e-01,  6.1051e+24,\n",
      "         2.4042e+22,  9.0865e+19,  8.5853e+19,  5.9526e+30,  4.1323e+27,\n",
      "         1.5020e-01,  1.5260e+30,  2.3599e+31,  3.8755e+26,  5.5113e+18,\n",
      "         9.9906e+31,  9.4546e-02,  1.0062e+32, -1.9362e-01,  6.1051e+24,\n",
      "         2.4042e+22,  9.0865e+19,  1.4749e+30,  3.7179e-01,  1.0062e+32,\n",
      "         7.2666e-01,  5.7778e+24,  1.8090e-01,  1.0062e+32, -7.9906e-02,\n",
      "         6.4812e+30,  2.4924e+34,  6.1739e+27,  2.5184e+31,  4.1323e+27,\n",
      "         2.6628e-01,  9.8933e+31,  9.1872e+22,  2.4653e+31,  1.9251e-01,\n",
      "         1.0062e+32,  8.7069e-02,  9.0285e+22,  2.1385e-01,  3.8115e+26,\n",
      "         1.0453e+27,  5.8292e+24,  6.2115e-01,  3.8115e+26,  1.0453e+27,\n",
      "         1.4071e+24,  1.4571e+24,  3.5596e-01,  3.8115e+26,  1.0453e+27,\n",
      "         1.5108e+33,  1.5388e+24,  4.1323e+27, -1.7194e-01,  5.9724e+24,\n",
      "         2.2861e+22,  2.4551e+31,  4.1323e+27,  6.2389e-01,  5.9724e+24,\n",
      "         6.2303e+24,  8.4668e-02,  1.0062e+32,  7.9554e-02,  2.2812e+25,\n",
      "         5.8700e+18,  5.6039e-02,  1.0062e+32, -6.7588e-02,  2.2812e+25,\n",
      "         5.8700e+18,  6.1312e+24,  6.1745e+27,  4.1323e+27,  5.7241e-04,\n",
      "         1.5788e+30, -1.8035e-01,  1.0062e+32, -4.0534e-03,  2.4245e+22,\n",
      "         2.4387e+28, -4.1126e-01,  3.8115e+26,  6.6901e+28,  5.7523e+24,\n",
      "         9.3296e-01,  3.9561e+26,  1.1597e-01,  1.4571e+24, -8.2748e-04,\n",
      "         3.8115e+26,  1.7127e+31, -7.5703e-02,  3.9561e+26, -3.3783e-01,\n",
      "         6.1306e+24,  5.9543e+24, -2.1968e-01,  3.9561e+26,  2.4764e-01,\n",
      "         2.4129e+31, -1.9754e-02,  3.8115e+26,  1.9244e-02,  9.0692e+22,\n",
      "         9.2205e+28,  6.1390e+30,  1.5033e+16,  5.7103e-03,  1.5435e+27,\n",
      "         5.7400e+21, -6.7782e-02, -1.3534e-01,  1.3920e+21,  3.5390e+20,\n",
      "         1.9946e-01,  7.1181e+19,  7.1778e+22,  1.6381e-02,  8.8079e+19,\n",
      "        -1.1320e-01,  3.8154e+23,  5.7630e+27,  4.8083e-02,  1.6333e+25,\n",
      "         2.6350e+31,  1.1794e+33,  2.2765e+22,  4.2342e-01,  1.4885e+30,\n",
      "         5.8702e+18,  9.6525e+31,  8.2938e-02], device='cuda:0')\n"
     ]
    }
   ],
   "source": [
    "print(word_embeddings[\"the\"])"
   ]
  },
  {
   "cell_type": "code",
   "execution_count": null,
   "id": "d2e04d6e-23ec-4fd0-92fc-7ff7c84296ae",
   "metadata": {
    "scrolled": true
   },
   "outputs": [],
   "source": [
    "most_similar(\"cactus\")"
   ]
  },
  {
   "cell_type": "code",
   "execution_count": null,
   "id": "14b762c7-5b97-4a57-a0f3-85dfa200c573",
   "metadata": {},
   "outputs": [],
   "source": [
    "most_similar(\"cake\")"
   ]
  },
  {
   "cell_type": "code",
   "execution_count": null,
   "id": "8b9c4129-330d-4799-a24d-dd37eeadaa66",
   "metadata": {},
   "outputs": [],
   "source": [
    "most_similar(\"angry\")"
   ]
  },
  {
   "cell_type": "code",
   "execution_count": null,
   "id": "58d7a920-d813-451c-a735-6d46124150b8",
   "metadata": {},
   "outputs": [],
   "source": [
    "most_similar(\"quickly\")"
   ]
  },
  {
   "cell_type": "code",
   "execution_count": null,
   "id": "31d9f07a-f388-4c40-beb3-7c02acdd893b",
   "metadata": {},
   "outputs": [],
   "source": [
    "most_similar(\"between\")"
   ]
  },
  {
   "cell_type": "code",
   "execution_count": null,
   "id": "e1b48039-ff31-43df-b813-024683cba2bb",
   "metadata": {},
   "outputs": [],
   "source": [
    "most_similar(\"the\")"
   ]
  }
 ],
 "metadata": {
  "kernelspec": {
   "display_name": "Python 3 (ipykernel)",
   "language": "python",
   "name": "python3"
  },
  "language_info": {
   "codemirror_mode": {
    "name": "ipython",
    "version": 3
   },
   "file_extension": ".py",
   "mimetype": "text/x-python",
   "name": "python",
   "nbconvert_exporter": "python",
   "pygments_lexer": "ipython3",
   "version": "3.11.8"
  }
 },
 "nbformat": 4,
 "nbformat_minor": 5
}
