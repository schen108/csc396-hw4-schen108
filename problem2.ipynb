{
 "cells": [
  {
   "cell_type": "code",
   "execution_count": null,
   "id": "22f80913-f18c-4eda-bbd7-fa26d9737b0f",
   "metadata": {},
   "outputs": [],
   "source": [
    "import pickle \n",
    "\n",
    "with open('avg_embeddings.pkl', 'rb') as f:\n",
    "    loaded_dict = pickle.load(f)"
   ]
  },
  {
   "cell_type": "code",
   "execution_count": null,
   "id": "d2e04d6e-23ec-4fd0-92fc-7ff7c84296ae",
   "metadata": {},
   "outputs": [],
   "source": [
    "most_similar(\"cactus\")"
   ]
  },
  {
   "cell_type": "code",
   "execution_count": null,
   "id": "14b762c7-5b97-4a57-a0f3-85dfa200c573",
   "metadata": {},
   "outputs": [],
   "source": [
    "most_similar(\"cake\")"
   ]
  },
  {
   "cell_type": "code",
   "execution_count": null,
   "id": "8b9c4129-330d-4799-a24d-dd37eeadaa66",
   "metadata": {},
   "outputs": [],
   "source": [
    "most_similar(\"angry\")"
   ]
  },
  {
   "cell_type": "code",
   "execution_count": null,
   "id": "58d7a920-d813-451c-a735-6d46124150b8",
   "metadata": {},
   "outputs": [],
   "source": [
    "most_similar(\"quickly\")"
   ]
  },
  {
   "cell_type": "code",
   "execution_count": null,
   "id": "31d9f07a-f388-4c40-beb3-7c02acdd893b",
   "metadata": {},
   "outputs": [],
   "source": [
    "most_similar(\"between\")"
   ]
  },
  {
   "cell_type": "code",
   "execution_count": null,
   "id": "e1b48039-ff31-43df-b813-024683cba2bb",
   "metadata": {},
   "outputs": [],
   "source": [
    "most_similar(\"the\")"
   ]
  }
 ],
 "metadata": {
  "kernelspec": {
   "display_name": "Python 3 (ipykernel)",
   "language": "python",
   "name": "python3"
  },
  "language_info": {
   "codemirror_mode": {
    "name": "ipython",
    "version": 3
   },
   "file_extension": ".py",
   "mimetype": "text/x-python",
   "name": "python",
   "nbconvert_exporter": "python",
   "pygments_lexer": "ipython3",
   "version": "3.11.8"
  }
 },
 "nbformat": 4,
 "nbformat_minor": 5
}
